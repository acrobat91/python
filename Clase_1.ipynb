{
  "nbformat": 4,
  "nbformat_minor": 0,
  "metadata": {
    "colab": {
      "provenance": [],
      "authorship_tag": "ABX9TyOAcxs1KMPY8Ay2mo95JS8H",
      "include_colab_link": true
    },
    "kernelspec": {
      "name": "python3",
      "display_name": "Python 3"
    },
    "language_info": {
      "name": "python"
    }
  },
  "cells": [
    {
      "cell_type": "markdown",
      "metadata": {
        "id": "view-in-github",
        "colab_type": "text"
      },
      "source": [
        "<a href=\"https://colab.research.google.com/github/acrobat91/python/blob/main/Clase_1.ipynb\" target=\"_parent\"><img src=\"https://colab.research.google.com/assets/colab-badge.svg\" alt=\"Open In Colab\"/></a>"
      ]
    },
    {
      "cell_type": "code",
      "execution_count": null,
      "metadata": {
        "colab": {
          "base_uri": "https://localhost:8080/"
        },
        "id": "OZN4xrZ_9_eQ",
        "outputId": "91340e19-f145-4e3e-cd40-c20ce185c40d"
      },
      "outputs": [
        {
          "output_type": "stream",
          "name": "stdout",
          "text": [
            "Mounted at /content/drive\n"
          ]
        }
      ],
      "source": [
        "from google.colab import drive\n",
        "drive.mount('/content/drive')\n",
        "\n",
        "#df_credit = pd.read_csv(\"/content/drive/MyDrive/Colab_Notebooks/CoderHouse/ProyectoFinal/Datasets/creditcard.csv\")\n",
        "#df_credit.head(10)\n",
        "\n",
        "# serpiente es para definir clases mi_variable\n",
        "\n"
      ]
    },
    {
      "cell_type": "code",
      "source": [
        "miValor = 2\n",
        "valorUsuario = input()\n",
        "\n",
        "print(miValor, valorUsuario)"
      ],
      "metadata": {
        "colab": {
          "base_uri": "https://localhost:8080/"
        },
        "id": "Hw-QQa3J-wh5",
        "outputId": "b3eb97d5-065d-4679-b697-3f93c7a51ff3"
      },
      "execution_count": null,
      "outputs": [
        {
          "output_type": "stream",
          "name": "stdout",
          "text": [
            "6\n",
            "2 6\n"
          ]
        }
      ]
    },
    {
      "cell_type": "markdown",
      "source": [
        "# Operadores de Asignación"
      ],
      "metadata": {
        "id": "b4LfiPFMJO-J"
      }
    },
    {
      "cell_type": "code",
      "source": [
        "# Operadores de asignación compuestas\n",
        "\n",
        "a = 4\n",
        "a += 5\n",
        "a -= 5\n",
        "a *= 5\n",
        "a /= 5\n",
        "a **= 5\n",
        "\n",
        "# Suma\n",
        "suma = 1 + 1\n",
        "print('Suma:', suma)\n",
        "\n",
        "print('Suma directa:', 1+1)\n",
        "\n",
        "# Resta\n",
        "\n",
        "resta = 1 - 1\n",
        "\n",
        "print('Resta:', resta)\n",
        "\n",
        "#Multiplicacion\n",
        "multiplicacion = 5 * 5\n",
        "\n",
        "print('Multiplicación:', multiplicacion)\n",
        "\n",
        "# Division\n",
        "division = 100 / 10\n",
        "print('Division:', division)\n",
        "\n",
        "print(type(division))\n",
        "\n",
        "# Division entera\n",
        "division_entera = 100 // 10\n",
        "\n",
        "print('Division entera:', division_entera)\n",
        "print(type(division_entera))\n",
        "\n",
        "\n",
        "# Division módulo\n",
        "division_modulo = 2% 3\n",
        "print('Division modulo:', division_modulo)\n",
        "\n",
        "\n",
        "# Exponenciacion\n",
        "exponenciacion = 2 ** 2\n",
        "print('Exponenciación:', exponenciacion)"
      ],
      "metadata": {
        "colab": {
          "base_uri": "https://localhost:8080/"
        },
        "id": "3wXSAUbAJRH1",
        "outputId": "ea93b582-195b-49ce-f424-399168b6a884"
      },
      "execution_count": null,
      "outputs": [
        {
          "output_type": "stream",
          "name": "stdout",
          "text": [
            "Suma: 2\n",
            "Suma directa: 2\n",
            "Resta: 0\n",
            "Multiplicación: 25\n",
            "Division: 10.0\n",
            "<class 'float'>\n",
            "Division entera: 10\n",
            "<class 'int'>\n",
            "Division modulo: 2\n",
            "Exponenciación: 4\n"
          ]
        }
      ]
    },
    {
      "cell_type": "markdown",
      "source": [
        "# Asignación Múltiple"
      ],
      "metadata": {
        "id": "KWh170BpNIvN"
      }
    },
    {
      "cell_type": "code",
      "source": [
        "miVariable1, miVariable2, miVariable3 = 4, 3, \"Hola\"\n",
        "print(miVariable1, miVariable2, miVariable3)\n",
        "\n",
        "\n",
        "miEntero, miBooleano = 15, True\n",
        "print(miEntero, miBooleano)\n"
      ],
      "metadata": {
        "colab": {
          "base_uri": "https://localhost:8080/"
        },
        "id": "QjttJO8WNMLk",
        "outputId": "0d0c783b-415a-4620-d179-750add949874"
      },
      "execution_count": null,
      "outputs": [
        {
          "output_type": "stream",
          "name": "stdout",
          "text": [
            "4 3 Hola\n",
            "15 True\n"
          ]
        }
      ]
    },
    {
      "cell_type": "markdown",
      "source": [
        "# Strings functions"
      ],
      "metadata": {
        "id": "58sBn2U7OLoy"
      }
    },
    {
      "cell_type": "code",
      "source": [
        "# Concatenacion\n",
        "print('Hola ' + 'Mundo')\n",
        "\n",
        "miCadena1, miCadena2 = \"Hola\", 'Estefany '\n",
        "\n",
        "print(miCadena1, miCadena2)\n",
        "\n",
        "\n",
        "# Repeticion\n",
        "print(miCadena2 * 5)\n",
        "\n",
        "\n",
        "#Indexar\n",
        "miIndexacion = 'El perro corre en el parque'\n",
        "\n",
        "print(miIndexacion[4])\n",
        "\n",
        "#Rebanar / slicing\n",
        "print(miIndexacion[0:4])\n",
        "print(miIndexacion[0:8:2])\n",
        "\n",
        "miCadena = 'Hola,otravez'\n",
        "print(miCadena[3:10:-1])"
      ],
      "metadata": {
        "colab": {
          "base_uri": "https://localhost:8080/"
        },
        "id": "kjfGW9C8NYWi",
        "outputId": "53d023f9-1e2d-4e48-de18-118d57c55139"
      },
      "execution_count": null,
      "outputs": [
        {
          "output_type": "stream",
          "name": "stdout",
          "text": [
            "Hola Mundo\n",
            "Hola Estefany \n",
            "Estefany Estefany Estefany Estefany Estefany \n",
            "e\n",
            "El p\n",
            "E er\n",
            "\n"
          ]
        }
      ]
    },
    {
      "cell_type": "markdown",
      "source": [
        "# Input (Valores de entrada)"
      ],
      "metadata": {
        "id": "sGvuTIOdXldm"
      }
    },
    {
      "cell_type": "code",
      "source": [
        "input('Cuantos años tienes:')"
      ],
      "metadata": {
        "colab": {
          "base_uri": "https://localhost:8080/",
          "height": 53
        },
        "id": "YLE7s9RkOSXk",
        "outputId": "883b5eb5-8925-42b5-a4da-8c02d0e89391"
      },
      "execution_count": null,
      "outputs": [
        {
          "name": "stdout",
          "output_type": "stream",
          "text": [
            "Cuantos años tienes29\n"
          ]
        },
        {
          "output_type": "execute_result",
          "data": {
            "text/plain": [
              "'29'"
            ],
            "application/vnd.google.colaboratory.intrinsic+json": {
              "type": "string"
            }
          },
          "metadata": {},
          "execution_count": 35
        }
      ]
    },
    {
      "cell_type": "code",
      "source": [
        "print('¡Hola, Mundo!')\n",
        "\n",
        "saludo = '¡Hola, Mundo!'\n",
        "print(saludo)"
      ],
      "metadata": {
        "colab": {
          "base_uri": "https://localhost:8080/"
        },
        "id": "p7s0vwDBXqqm",
        "outputId": "d8180c80-dd8a-4184-b96c-df30324a182e"
      },
      "execution_count": null,
      "outputs": [
        {
          "output_type": "stream",
          "name": "stdout",
          "text": [
            "¡Hola, Mundo!\n",
            "¡Hola, Mundo!\n"
          ]
        }
      ]
    },
    {
      "cell_type": "code",
      "source": [
        "nombre = input('Escribe tu nombre: ')\n",
        "\n",
        "print('_ . _ . _ .')\n",
        "print(f'¡Hola, {nombre}!')"
      ],
      "metadata": {
        "colab": {
          "base_uri": "https://localhost:8080/"
        },
        "id": "BS5ZUoj6Y-r5",
        "outputId": "df7f8454-5eb5-43c4-a73a-aef240b84de6"
      },
      "execution_count": null,
      "outputs": [
        {
          "output_type": "stream",
          "name": "stdout",
          "text": [
            "Escribe tu nombre: Mando\n",
            "_ . _ . _ .\n",
            "¡Hola, Mando!\n"
          ]
        }
      ]
    },
    {
      "cell_type": "code",
      "source": [
        "operacion = ((-2)/(2*2)) ** 2\n",
        "\n",
        "print('El resultado de la operación es: ', operacion)"
      ],
      "metadata": {
        "colab": {
          "base_uri": "https://localhost:8080/"
        },
        "id": "SOIbkIt7app1",
        "outputId": "3ebf997e-826d-4237-8bdf-331537347405"
      },
      "execution_count": null,
      "outputs": [
        {
          "output_type": "stream",
          "name": "stdout",
          "text": [
            "El resultado de la operación es:  0.25\n"
          ]
        }
      ]
    },
    {
      "cell_type": "code",
      "source": [
        "a = 2\n",
        "b = 3\n",
        "\n",
        "if a == 2:\n",
        "  a = 3\n",
        "\n",
        "if b == 3:\n",
        "  b = 2\n",
        "\n",
        "\n",
        "print('El valor de a es: ', a)\n",
        "print('El valor de b es: ', b)\n",
        "\n"
      ],
      "metadata": {
        "colab": {
          "base_uri": "https://localhost:8080/"
        },
        "id": "yiV_RURjbt_X",
        "outputId": "c94ca324-3fc8-4db1-c1b7-0efa5288f0d5"
      },
      "execution_count": null,
      "outputs": [
        {
          "output_type": "stream",
          "name": "stdout",
          "text": [
            "El valor de a es:  3\n",
            "El valor de b es:  2\n"
          ]
        }
      ]
    },
    {
      "cell_type": "code",
      "source": [
        "a, b = 2, 3\n",
        "\n",
        "a, b = b, a\n",
        "\n",
        "print('El valor de a es: ', a)\n",
        "print('El valor de b es: ', b)"
      ],
      "metadata": {
        "colab": {
          "base_uri": "https://localhost:8080/"
        },
        "id": "YDonUDwCczvk",
        "outputId": "e80d6e8f-f1d7-414e-ea4a-0b0a3555a366"
      },
      "execution_count": null,
      "outputs": [
        {
          "output_type": "stream",
          "name": "stdout",
          "text": [
            "El valor de a es:  3\n",
            "El valor de b es:  2\n"
          ]
        }
      ]
    }
  ]
}